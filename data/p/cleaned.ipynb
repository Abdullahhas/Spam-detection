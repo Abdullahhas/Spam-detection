{
 "cells": [
  {
   "cell_type": "code",
   "execution_count": 2,
   "id": "f6d1fcbf",
   "metadata": {},
   "outputs": [],
   "source": [
    "# ----------------------------------------\n",
    "# 🧪 1. Import Required Libraries\n",
    "# ----------------------------------------\n",
    "import pandas as pd\n",
    "import re\n",
    "import nltk\n",
    "import sys\n",
    "from nltk.corpus import stopwords\n",
    "from nltk.stem import PorterStemmer\n",
    "from sklearn.model_selection import train_test_split, GridSearchCV\n",
    "from sklearn.naive_bayes import MultinomialNB\n",
    "from sklearn.feature_extraction.text import TfidfVectorizer\n",
    "from sklearn.metrics import classification_report, confusion_matrix\n",
    "import joblib"
   ]
  },
  {
   "cell_type": "code",
   "execution_count": 3,
   "id": "3a64e3cd",
   "metadata": {},
   "outputs": [
    {
     "name": "stdout",
     "output_type": "stream",
     "text": [
      "   Unnamed: 0 label                                               text  \\\n",
      "0         605   ham  Subject: enron methanol ; meter # : 988291\\r\\n...   \n",
      "1        2349   ham  Subject: hpl nom for january 9 , 2001\\r\\n( see...   \n",
      "2        3624   ham  Subject: neon retreat\\r\\nho ho ho , we ' re ar...   \n",
      "\n",
      "   label_num  \n",
      "0          0  \n",
      "1          0  \n",
      "2          0  \n",
      "Unnamed: 0    0\n",
      "label         0\n",
      "text          0\n",
      "label_num     0\n",
      "dtype: int64\n",
      "<class 'pandas.core.frame.DataFrame'>\n",
      "RangeIndex: 5171 entries, 0 to 5170\n",
      "Data columns (total 4 columns):\n",
      " #   Column      Non-Null Count  Dtype \n",
      "---  ------      --------------  ----- \n",
      " 0   Unnamed: 0  5171 non-null   int64 \n",
      " 1   label       5171 non-null   object\n",
      " 2   text        5171 non-null   object\n",
      " 3   label_num   5171 non-null   int64 \n",
      "dtypes: int64(2), object(2)\n",
      "memory usage: 161.7+ KB\n",
      "None\n",
      "        Unnamed: 0    label_num\n",
      "count  5171.000000  5171.000000\n",
      "mean   2585.000000     0.289886\n",
      "std    1492.883452     0.453753\n",
      "min       0.000000     0.000000\n",
      "25%    1292.500000     0.000000\n",
      "50%    2585.000000     0.000000\n",
      "75%    3877.500000     1.000000\n",
      "max    5170.000000     1.000000\n"
     ]
    }
   ],
   "source": [
    "# ----------------------------------------\n",
    "# 🧼 2. Load and Inspect Dataset\n",
    "# ----------------------------------------\n",
    "df = pd.read_csv('../raw/spam_ham_dataset.csv')  # Replace with correct path if needed\n",
    "print(df.head(3))                                # Preview first 3 rows\n",
    "print(df.isnull().sum())                         # Check for missing values\n",
    "print(df.info())                                 # Dataset information\n",
    "print(df.describe())                             # Basic stats\n"
   ]
  },
  {
   "cell_type": "code",
   "execution_count": 4,
   "id": "a380e12a",
   "metadata": {},
   "outputs": [
    {
     "name": "stdout",
     "output_type": "stream",
     "text": [
      "c:\\Users\\lenovo\\AppData\\Local\\Programs\\Python\\Python311\\python.exe\n"
     ]
    },
    {
     "name": "stderr",
     "output_type": "stream",
     "text": [
      "[nltk_data] Downloading package stopwords to\n",
      "[nltk_data]     C:\\Users\\lenovo\\AppData\\Roaming\\nltk_data...\n",
      "[nltk_data]   Package stopwords is already up-to-date!\n"
     ]
    },
    {
     "name": "stdout",
     "output_type": "stream",
     "text": [
      "   Unnamed: 0 label                                               text  \\\n",
      "0         605   ham  Subject: enron methanol ; meter # : 988291\\r\\n...   \n",
      "1        2349   ham  Subject: hpl nom for january 9 , 2001\\r\\n( see...   \n",
      "2        3624   ham  Subject: neon retreat\\r\\nho ho ho , we ' re ar...   \n",
      "\n",
      "   label_num                                         clean_text  \n",
      "0          0  subject enron methanol meter follow note gave ...  \n",
      "1          0  subject hpl nom january see attached file hpln...  \n",
      "2          0  subject neon retreat ho ho ho around wonderful...  \n"
     ]
    }
   ],
   "source": [
    "# ----------------------------------------\n",
    "# 🧹 3. Text Preprocessing & Cleaning\n",
    "# ----------------------------------------\n",
    "print(sys.executable)                            # Debug: check Python path\n",
    "nltk.download(\"stopwords\")                       # Download stopwords\n",
    "\n",
    "stemmer = PorterStemmer()\n",
    "stop_words = set(stopwords.words('english'))\n",
    "\n",
    "def clean_txt(text):\n",
    "    text = text.lower()                                           # Lowercase\n",
    "    text = re.sub(r'http\\S+|www\\S+|https\\S+', '', text)           # Remove links\n",
    "    text = re.sub(r'\\@\\w+|\\#', '', text)                          # Remove @mentions and hashtags\n",
    "    text = re.sub(r'[^a-zA-Z\\s]', '', text)                       # Remove numbers/punctuation\n",
    "    words = text.split()\n",
    "    words = [word for word in words if word not in stop_words]   # Remove stopwords\n",
    "    return ' '.join(words)\n",
    "\n",
    "df['clean_text'] = df['text'].apply(clean_txt)\n",
    "print(df.head(3))                                # Check cleaned text"
   ]
  },
  {
   "cell_type": "code",
   "execution_count": 5,
   "id": "47163470",
   "metadata": {},
   "outputs": [],
   "source": [
    "# ----------------------------------------\n",
    "# 🔢 4. Feature Extraction (TF-IDF)\n",
    "# ----------------------------------------\n",
    "tfid = TfidfVectorizer(max_features=5000)\n",
    "X = tfid.fit_transform(df['clean_text'])         # Features: vectorized text\n",
    "Y = df['label']                                  # Target: spam or ham"
   ]
  },
  {
   "cell_type": "code",
   "execution_count": 6,
   "id": "e01da760",
   "metadata": {},
   "outputs": [],
   "source": [
    "# ----------------------------------------\n",
    "# ✂️ 5. Train-Test Split\n",
    "# ----------------------------------------\n",
    "X_train, X_test, y_train, y_test = train_test_split(\n",
    "    X, Y, test_size=0.2, random_state=42\n",
    ")"
   ]
  },
  {
   "cell_type": "code",
   "execution_count": 7,
   "id": "60372730",
   "metadata": {},
   "outputs": [
    {
     "name": "stdout",
     "output_type": "stream",
     "text": [
      "Train Accuracy: 0.9673597678916828\n",
      "Test Accuracy: 0.9536231884057971\n",
      "Confusion Matrix:\n",
      " [[714  28]\n",
      " [ 20 273]]\n",
      "Classification Report:\n",
      "               precision    recall  f1-score   support\n",
      "\n",
      "         ham       0.97      0.96      0.97       742\n",
      "        spam       0.91      0.93      0.92       293\n",
      "\n",
      "    accuracy                           0.95      1035\n",
      "   macro avg       0.94      0.95      0.94      1035\n",
      "weighted avg       0.95      0.95      0.95      1035\n",
      "\n"
     ]
    }
   ],
   "source": [
    "# ----------------------------------------\n",
    "# 📊 6. Base Model - Multinomial Naive Bayes\n",
    "# ----------------------------------------\n",
    "nb = MultinomialNB()\n",
    "nb.fit(X_train, y_train)\n",
    "\n",
    "# Evaluate base model\n",
    "print(\"Train Accuracy:\", nb.score(X_train, y_train))\n",
    "print(\"Test Accuracy:\", nb.score(X_test, y_test))\n",
    "\n",
    "# Predict and evaluate\n",
    "y_pred = nb.predict(X_test)\n",
    "print(\"Confusion Matrix:\\n\", confusion_matrix(y_test, y_pred))\n",
    "print(\"Classification Report:\\n\", classification_report(y_test, y_pred))\n"
   ]
  },
  {
   "cell_type": "code",
   "execution_count": 8,
   "id": "b45f23ff",
   "metadata": {},
   "outputs": [
    {
     "name": "stdout",
     "output_type": "stream",
     "text": [
      "Best Parameters: {'alpha': 0.1}\n",
      "Best Cross-Validation Accuracy: 0.9610731413817476\n",
      "Train Accuracy (Best Model): 0.9741295938104448\n",
      "Test Accuracy (Best Model): 0.9555555555555556\n",
      "Confusion Matrix:\n",
      " [[713  29]\n",
      " [ 17 276]]\n",
      "Classification Report:\n",
      "               precision    recall  f1-score   support\n",
      "\n",
      "         ham       0.98      0.96      0.97       742\n",
      "        spam       0.90      0.94      0.92       293\n",
      "\n",
      "    accuracy                           0.96      1035\n",
      "   macro avg       0.94      0.95      0.95      1035\n",
      "weighted avg       0.96      0.96      0.96      1035\n",
      "\n"
     ]
    }
   ],
   "source": [
    "# ----------------------------------------\n",
    "# 🧠 7. Hyperparameter Tuning with GridSearchCV\n",
    "# ----------------------------------------\n",
    "param_grid = {'alpha': [0.1, 0.5, 1.0, 1.5, 2.0]}\n",
    "grid = GridSearchCV(nb, param_grid, cv=5, scoring='accuracy')\n",
    "\n",
    "grid.fit(X_train, y_train)\n",
    "\n",
    "# Results\n",
    "print(\"Best Parameters:\", grid.best_params_)\n",
    "print(\"Best Cross-Validation Accuracy:\", grid.best_score_)\n",
    "\n",
    "# Evaluate best model\n",
    "best_model = grid.best_estimator_\n",
    "print(\"Train Accuracy (Best Model):\", best_model.score(X_train, y_train))\n",
    "print(\"Test Accuracy (Best Model):\", best_model.score(X_test, y_test))\n",
    "\n",
    "# Predict and evaluate best model\n",
    "y_pred = best_model.predict(X_test)\n",
    "print(\"Confusion Matrix:\\n\", confusion_matrix(y_test, y_pred))\n",
    "print(\"Classification Report:\\n\", classification_report(y_test, y_pred))"
   ]
  },
  {
   "cell_type": "code",
   "execution_count": 9,
   "id": "d6d7352f",
   "metadata": {},
   "outputs": [
    {
     "data": {
      "text/plain": [
       "['tfidf_vectorizer.pkl']"
      ]
     },
     "execution_count": 9,
     "metadata": {},
     "output_type": "execute_result"
    }
   ],
   "source": [
    "# ----------------------------------------\n",
    "# 💾 8. Save Model and Vectorizer\n",
    "# ----------------------------------------\n",
    "joblib.dump(grid, \"gridsearch_naive_bayes.pkl\")             # Full grid object (optional)\n",
    "joblib.dump(best_model, \"best_naive_bayes_model.pkl\")       # Best model from GridSearch\n",
    "joblib.dump(tfid, \"tfidf_vectorizer.pkl\")                   # TF-IDF vectoriz"
   ]
  },
  {
   "cell_type": "code",
   "execution_count": 10,
   "id": "f8b1766a",
   "metadata": {},
   "outputs": [
    {
     "name": "stdout",
     "output_type": "stream",
     "text": [
      "Test Accuracy (Loaded Model): 0.9555555555555556\n"
     ]
    }
   ],
   "source": [
    "# ----------------------------------------\n",
    "# 🔁 9. Load and Use Saved Model (Demo)\n",
    "# ----------------------------------------\n",
    "model = joblib.load(\"best_naive_bayes_model.pkl\")\n",
    "vectorizer = joblib.load(\"tfidf_vectorizer.pkl\")\n",
    "\n",
    "# Predict again using loaded model (just to verify)\n",
    "y_pred = model.predict(X_test)\n",
    "print(\"Test Accuracy (Loaded Model):\", model.score(X_test, y_test))"
   ]
  }
 ],
 "metadata": {
  "kernelspec": {
   "display_name": "Python 3",
   "language": "python",
   "name": "python3"
  },
  "language_info": {
   "codemirror_mode": {
    "name": "ipython",
    "version": 3
   },
   "file_extension": ".py",
   "mimetype": "text/x-python",
   "name": "python",
   "nbconvert_exporter": "python",
   "pygments_lexer": "ipython3",
   "version": "3.11.3"
  }
 },
 "nbformat": 4,
 "nbformat_minor": 5
}

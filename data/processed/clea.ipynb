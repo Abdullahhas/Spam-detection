{
 "cells": [
  {
   "cell_type": "code",
   "execution_count": 1,
   "id": "72cac4aa",
   "metadata": {},
   "outputs": [],
   "source": [
    "import pandas as pd\n",
    "import re\n",
    "import nltk\n",
    "import sys\n",
    "from nltk.corpus import stopwords\n",
    "from nltk.stem import PorterStemmer\n",
    "from sklearn.model_selection import train_test_split, GridSearchCV\n",
    "from sklearn.naive_bayes import MultinomialNB\n",
    "from sklearn.feature_extraction.text import TfidfVectorizer\n",
    "from sklearn.metrics import classification_report, confusion_matrix\n",
    "import joblib"
   ]
  },
  {
   "cell_type": "code",
   "execution_count": 3,
   "id": "9e9fdf3c",
   "metadata": {},
   "outputs": [
    {
     "name": "stdout",
     "output_type": "stream",
     "text": [
      "  label                                               text  length  punc\n",
      "0   ham  Go until jurong point, crazy.. Available only ...     111     9\n",
      "1   ham                      Ok lar... Joking wif u oni...      29     6\n",
      "2  spam  Free entry in 2 a wkly comp to win FA Cup fina...     155     6\n",
      "label     0\n",
      "text      0\n",
      "length    0\n",
      "punc      0\n",
      "dtype: int64\n",
      "<class 'pandas.core.frame.DataFrame'>\n",
      "RangeIndex: 5572 entries, 0 to 5571\n",
      "Data columns (total 4 columns):\n",
      " #   Column  Non-Null Count  Dtype \n",
      "---  ------  --------------  ----- \n",
      " 0   label   5572 non-null   object\n",
      " 1   text    5572 non-null   object\n",
      " 2   length  5572 non-null   int64 \n",
      " 3   punc    5572 non-null   int64 \n",
      "dtypes: int64(2), object(2)\n",
      "memory usage: 174.3+ KB\n",
      "None\n",
      "            length         punc\n",
      "count  5572.000000  5572.000000\n",
      "mean     80.489950     4.177495\n",
      "std      59.942907     4.623919\n",
      "min       2.000000     0.000000\n",
      "25%      36.000000     2.000000\n",
      "50%      62.000000     3.000000\n",
      "75%     122.000000     6.000000\n",
      "max     910.000000   133.000000\n"
     ]
    }
   ],
   "source": [
    "df = pd.read_csv('../raw/spamDetection.csv') \n",
    "print(df.head(3))                               \n",
    "print(df.isnull().sum())                         \n",
    "print(df.info())                                \n",
    "print(df.describe())                            \n"
   ]
  },
  {
   "cell_type": "code",
   "execution_count": 4,
   "id": "2136bfe0",
   "metadata": {},
   "outputs": [
    {
     "data": {
      "text/plain": [
       "label\n",
       "ham     4825\n",
       "spam     747\n",
       "Name: count, dtype: int64"
      ]
     },
     "execution_count": 4,
     "metadata": {},
     "output_type": "execute_result"
    }
   ],
   "source": [
    "df['label'].value_counts()"
   ]
  },
  {
   "cell_type": "code",
   "execution_count": 5,
   "id": "3b53ace8",
   "metadata": {},
   "outputs": [
    {
     "name": "stdout",
     "output_type": "stream",
     "text": [
      "c:\\Users\\lenovo\\AppData\\Local\\Programs\\Python\\Python311\\python.exe\n"
     ]
    },
    {
     "name": "stderr",
     "output_type": "stream",
     "text": [
      "[nltk_data] Downloading package stopwords to\n",
      "[nltk_data]     C:\\Users\\lenovo\\AppData\\Roaming\\nltk_data...\n",
      "[nltk_data]   Package stopwords is already up-to-date!\n"
     ]
    },
    {
     "name": "stdout",
     "output_type": "stream",
     "text": [
      "  label                                               text  length  punc  \\\n",
      "0   ham  Go until jurong point, crazy.. Available only ...     111     9   \n",
      "1   ham                      Ok lar... Joking wif u oni...      29     6   \n",
      "2  spam  Free entry in 2 a wkly comp to win FA Cup fina...     155     6   \n",
      "\n",
      "                                          clean_text  \n",
      "0  go jurong point crazy available bugis n great ...  \n",
      "1                            ok lar joking wif u oni  \n",
      "2  free entry wkly comp win fa cup final tkts st ...  \n"
     ]
    }
   ],
   "source": [
    "\n",
    "#Text Preprocessing & Cleaning\n",
    "\n",
    "print(sys.executable)                            #  check Python path\n",
    "nltk.download(\"stopwords\")                       # Download stopwords\n",
    "\n",
    "stemmer = PorterStemmer()\n",
    "stop_words = set(stopwords.words('english'))\n",
    "\n",
    "def clean_txt(text):\n",
    "    text = text.lower()                                           # Lowercase\n",
    "    text = re.sub(r'http\\S+|www\\S+|https\\S+', '', text)           # Remove links\n",
    "    text = re.sub(r'\\@\\w+|\\#', '', text)                          # Remove @mentions and hashtags\n",
    "    text = re.sub(r'[^a-zA-Z\\s]', '', text)                       # Remove numbers/punctuation\n",
    "    words = text.split()\n",
    "    words = [word for word in words if word not in stop_words]   # Remove stopwords\n",
    "    return ' '.join(words)\n",
    "\n",
    "df['clean_text'] = df['text'].apply(clean_txt)\n",
    "print(df.head(3))                                # Check cleaned text"
   ]
  },
  {
   "cell_type": "code",
   "execution_count": 6,
   "id": "409f8b59",
   "metadata": {},
   "outputs": [],
   "source": [
    "\n",
    "#Feature Extraction (TF-IDF)\n",
    "\n",
    "tfid = TfidfVectorizer(max_features=5000)\n",
    "X = tfid.fit_transform(df['clean_text'])         # Features: vectorized text\n",
    "Y = df['label']                                  # Target: spam or ham"
   ]
  },
  {
   "cell_type": "code",
   "execution_count": 7,
   "id": "d4126a81",
   "metadata": {},
   "outputs": [],
   "source": [
    "\n",
    "# Train-Test Split\n",
    "\n",
    "X_train, X_test, y_train, y_test = train_test_split(\n",
    "    X, Y, test_size=0.2, stratify=Y, random_state=42 \n",
    ")"
   ]
  },
  {
   "cell_type": "code",
   "execution_count": 8,
   "id": "7d21a6fd",
   "metadata": {},
   "outputs": [
    {
     "name": "stdout",
     "output_type": "stream",
     "text": [
      "Train Accuracy: 0.9811532420910927\n",
      "Test Accuracy: 0.967713004484305\n",
      "Confusion Matrix:\n",
      " [[966   0]\n",
      " [ 36 113]]\n",
      "Classification Report:\n",
      "               precision    recall  f1-score   support\n",
      "\n",
      "         ham       0.96      1.00      0.98       966\n",
      "        spam       1.00      0.76      0.86       149\n",
      "\n",
      "    accuracy                           0.97      1115\n",
      "   macro avg       0.98      0.88      0.92      1115\n",
      "weighted avg       0.97      0.97      0.97      1115\n",
      "\n"
     ]
    }
   ],
   "source": [
    "\n",
    "#  Multinomial Naive Bayes\n",
    "\n",
    "nb = MultinomialNB()\n",
    "nb.fit(X_train, y_train)\n",
    "\n",
    "# Evaluate base model\n",
    "print(\"Train Accuracy:\", nb.score(X_train, y_train))\n",
    "print(\"Test Accuracy:\", nb.score(X_test, y_test))\n",
    "\n",
    "# Predict and evaluate\n",
    "y_pred = nb.predict(X_test)\n",
    "print(\"Confusion Matrix:\\n\", confusion_matrix(y_test, y_pred))\n",
    "print(\"Classification Report:\\n\", classification_report(y_test, y_pred))\n"
   ]
  },
  {
   "cell_type": "code",
   "execution_count": 9,
   "id": "1f774522",
   "metadata": {},
   "outputs": [
    {
     "name": "stdout",
     "output_type": "stream",
     "text": [
      "Best Parameters: {'alpha': 0.1}\n",
      "Best Cross-Validation Accuracy: 0.9786862144111769\n",
      "Train Accuracy (Best Model): 0.9934933811981154\n",
      "Test Accuracy (Best Model): 0.9775784753363229\n",
      "Confusion Matrix:\n",
      " [[958   8]\n",
      " [ 17 132]]\n",
      "Classification Report:\n",
      "               precision    recall  f1-score   support\n",
      "\n",
      "         ham       0.98      0.99      0.99       966\n",
      "        spam       0.94      0.89      0.91       149\n",
      "\n",
      "    accuracy                           0.98      1115\n",
      "   macro avg       0.96      0.94      0.95      1115\n",
      "weighted avg       0.98      0.98      0.98      1115\n",
      "\n"
     ]
    }
   ],
   "source": [
    "\n",
    "#  Hyperparameter Tuning with GridSearchCV\n",
    "\n",
    "param_grid = {'alpha': [0.1, 0.5, 1.0, 1.5, 2.0]}\n",
    "grid = GridSearchCV(nb, param_grid, cv=5, scoring='accuracy')\n",
    "\n",
    "grid.fit(X_train, y_train)\n",
    "\n",
    "# Results\n",
    "print(\"Best Parameters:\", grid.best_params_)\n",
    "print(\"Best Cross-Validation Accuracy:\", grid.best_score_)\n",
    "\n",
    "# Evaluate best model\n",
    "best_model = grid.best_estimator_\n",
    "print(\"Train Accuracy (Best Model):\", best_model.score(X_train, y_train))\n",
    "print(\"Test Accuracy (Best Model):\", best_model.score(X_test, y_test))\n",
    "\n",
    "# Predict and evaluate best model\n",
    "y_pred = best_model.predict(X_test)\n",
    "print(\"Confusion Matrix:\\n\", confusion_matrix(y_test, y_pred))\n",
    "print(\"Classification Report:\\n\", classification_report(y_test, y_pred))"
   ]
  },
  {
   "cell_type": "code",
   "execution_count": 10,
   "id": "48fc448b",
   "metadata": {},
   "outputs": [
    {
     "data": {
      "text/plain": [
       "['tfidf_vectorizer.pkl']"
      ]
     },
     "execution_count": 10,
     "metadata": {},
     "output_type": "execute_result"
    }
   ],
   "source": [
    "#  Save Model and Vectorizer\n",
    "\n",
    "joblib.dump(grid, \"gridsearch_naive_bayes.pkl\")             # Full grid object (optional)\n",
    "joblib.dump(best_model, \"best_naive_bayes_model.pkl\")       # Best model from GridSearch\n",
    "joblib.dump(tfid, \"tfidf_vectorizer.pkl\")                   # TF-IDF vectoriz"
   ]
  },
  {
   "cell_type": "code",
   "execution_count": 11,
   "id": "99494f32",
   "metadata": {},
   "outputs": [
    {
     "name": "stdout",
     "output_type": "stream",
     "text": [
      "Test Accuracy (Loaded Model): 0.9775784753363229\n"
     ]
    }
   ],
   "source": [
    "\n",
    "#  Load and Use Saved Model (Demo)\n",
    "\n",
    "model = joblib.load(\"best_naive_bayes_model.pkl\")\n",
    "vectorizer = joblib.load(\"tfidf_vectorizer.pkl\")\n",
    "\n",
    "# Predict again using loaded model (just to verify)\n",
    "y_pred = model.predict(X_test)\n",
    "print(\"Test Accuracy (Loaded Model):\", model.score(X_test, y_test))"
   ]
  }
 ],
 "metadata": {
  "kernelspec": {
   "display_name": "Python 3",
   "language": "python",
   "name": "python3"
  },
  "language_info": {
   "codemirror_mode": {
    "name": "ipython",
    "version": 3
   },
   "file_extension": ".py",
   "mimetype": "text/x-python",
   "name": "python",
   "nbconvert_exporter": "python",
   "pygments_lexer": "ipython3",
   "version": "3.11.3"
  }
 },
 "nbformat": 4,
 "nbformat_minor": 5
}
